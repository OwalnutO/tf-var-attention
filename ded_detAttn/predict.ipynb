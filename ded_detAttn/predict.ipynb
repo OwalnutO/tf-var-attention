{
 "cells": [
  {
   "cell_type": "code",
   "execution_count": 1,
   "metadata": {},
   "outputs": [
    {
     "name": "stderr",
     "output_type": "stream",
     "text": [
      "Using TensorFlow backend.\n"
     ]
    }
   ],
   "source": [
    "import os\n",
    "os.environ[\"CUDA_DEVICE_ORDER\"]=\"PCI_BUS_ID\"\n",
    "os.environ[\"CUDA_VISIBLE_DEVICES\"]=\"0\"\n",
    "\n",
    "import tensorflow as tf\n",
    "tf_config = tf.ConfigProto()\n",
    "tf_config.gpu_options.allow_growth=True  \n",
    "sess = tf.Session(config=tf_config)\n",
    "\n",
    "import sys\n",
    "if not '../' in sys.path: sys.path.append('../')\n",
    "\n",
    "import numpy as np\n",
    "import pandas as pd\n",
    "\n",
    "from utils import data_utils\n",
    "from model_config import config\n",
    "from ded_detAttn import DetSeq2SeqDetAttnModel"
   ]
  },
  {
   "cell_type": "code",
   "execution_count": 3,
   "metadata": {},
   "outputs": [
    {
     "name": "stdout",
     "output_type": "stream",
     "text": [
      "[INFO] Preparing data for experiment: qgen\n"
     ]
    }
   ],
   "source": [
    "print('[INFO] Preparing data for experiment: {}'.format(config['experiment']))\n",
    "if config['experiment'] == 'qgen':\n",
    "    train_data = pd.read_csv(config['data_dir'] + 'df_qgen_train.csv')\n",
    "    val_data = pd.read_csv(config['data_dir'] + 'df_qgen_val.csv')\n",
    "    test_data = pd.read_csv(config['data_dir'] + 'df_qgen_test.csv')\n",
    "    input_sentences = pd.concat([train_data['answer'], val_data['answer'], test_data['answer']])\n",
    "    output_sentences = pd.concat([train_data['question'], val_data['question'], test_data['question']])\n",
    "    true_test = test_data['question']\n",
    "    input_test = test_data['answer']\n",
    "    filters = '!\"#$%&()*+,./:;<=>?@[\\\\]^`{|}~\\t\\n'\n",
    "    w2v_path = config['w2v_dir'] + 'w2vmodel_qgen.pkl'\n",
    "    \n",
    "elif config['experiment'] == 'dialogue':\n",
    "    train_data = pd.read_csv(config['data_dir'] + 'df_dialogue_train.csv')\n",
    "    val_data = pd.read_csv(config['data_dir'] + 'df_dialogue_val.csv')\n",
    "    test_data = pd.read_csv(config['data_dir'] + 'df_dialogue_test.csv')\n",
    "    input_sentences = pd.concat([train_data['line'], val_data['line'], test_data['line']])\n",
    "    output_sentences = pd.concat([train_data['reply'], val_data['reply'], test_data['reply']])\n",
    "    true_test = test_data['reply']\n",
    "    input_test = test_data['line']\n",
    "    filters = '!\"#$%&()*+/:;<=>@[\\\\]^`{|}~\\t\\n'\n",
    "    w2v_path = config['w2v_dir'] + 'w2vmodel_dialogue.pkl'\n",
    "\n",
    "else:\n",
    "    print('Invalid experiment name specified!')\n",
    "    \n"
   ]
  },
  {
   "cell_type": "code",
   "execution_count": 4,
   "metadata": {},
   "outputs": [
    {
     "name": "stdout",
     "output_type": "stream",
     "text": [
      "[INFO] Tokenizing input and output sequences\n",
      "[INFO] Split data into train-validation-test sets\n"
     ]
    }
   ],
   "source": [
    "print('[INFO] Tokenizing input and output sequences')\n",
    "x, input_word_index = data_utils.tokenize_sequence(input_sentences, \n",
    "                                                                      filters, \n",
    "                                                                      config['encoder_num_tokens'], \n",
    "                                                                      config['encoder_vocab'])\n",
    "\n",
    "y, output_word_index = data_utils.tokenize_sequence(output_sentences, \n",
    "                                                                        filters, \n",
    "                                                                        config['decoder_num_tokens'], \n",
    "                                                                        config['decoder_vocab'])\n",
    "\n",
    "print('[INFO] Split data into train-validation-test sets')\n",
    "x_train, y_train, x_val, y_val, x_test, y_test = data_utils.create_data_split(x, \n",
    "                                                                              y, \n",
    "                                                                              config['experiment'])\n",
    "\n",
    "encoder_embeddings_matrix = data_utils.create_embedding_matrix(input_word_index, \n",
    "                                                               config['embedding_size'], \n",
    "                                                               w2v_path)\n",
    "\n",
    "decoder_embeddings_matrix = data_utils.create_embedding_matrix(output_word_index, \n",
    "                                                               config['embedding_size'], \n",
    "                                                               w2v_path)\n",
    "\n",
    "# Re-calculate the vocab size based on the word_idx dictionary\n",
    "config['encoder_vocab'] = len(input_word_index)\n",
    "config['decoder_vocab'] = len(output_word_index)"
   ]
  },
  {
   "cell_type": "code",
   "execution_count": 5,
   "metadata": {},
   "outputs": [
    {
     "name": "stdout",
     "output_type": "stream",
     "text": [
      "[INFO] Building Model ...\n"
     ]
    }
   ],
   "source": [
    "model = DetSeq2SeqDetAttnModel(config, \n",
    "                               encoder_embeddings_matrix, \n",
    "                               decoder_embeddings_matrix, \n",
    "                               input_word_index, \n",
    "                               output_word_index)"
   ]
  },
  {
   "cell_type": "code",
   "execution_count": 7,
   "metadata": {},
   "outputs": [
    {
     "name": "stdout",
     "output_type": "stream",
     "text": [
      "INFO:tensorflow:Restoring parameters from models/det-seq2seq-det-attn-3.ckpt\n",
      "BLEU 1 to 4 : 30.5 | 14.07 | 7.97 | 4.64\n"
     ]
    }
   ],
   "source": [
    "if config['load_checkpoint'] != 0: \n",
    "    checkpoint = 'models/det-seq2seq-det-attn-' + str(config['load_checkpoint']) + '.ckpt'\n",
    "else:\n",
    "    checkpoint = tf.train.get_checkpoint_state(os.path.dirname('models/checkpoint')).model_checkpoint_path\n",
    "\n",
    "preds = model.predict(checkpoint, \n",
    "                      x_test, \n",
    "                      y_test, \n",
    "                      true_test, \n",
    "                      ['?'])"
   ]
  },
  {
   "cell_type": "code",
   "execution_count": 8,
   "metadata": {},
   "outputs": [
    {
     "name": "stdout",
     "output_type": "stream",
     "text": [
      "Input:      fantasia released as her coronation single i believe a song co written by season one finalist tamyra gray and degarmo released dreams\n",
      "Actual:     what was the first song released by diana degarmo after coming in second on american idol ?\n",
      "Generated: what is the name of the song that is released in the year ?\n",
      "\n",
      "Input:      he increased the faculty by more than 500 professors the academic quality of the student body has improved dramatically with the average sat score rising from 1240 to 1360 the number of minority students more than doubled the endowment grew from 350 million to more than 3 billion the annual operating budget rose from 177 million to more than 650 million and annual research funding improved from 15 million to more than 70 million\n",
      "Actual:     when malloy reached the end of his time as president how much annuals funding for research did notre dame have ?\n",
      "Generated: what was the average score for the academic environment ?\n",
      "\n",
      "Input:      together with the national marine aquarium the sir alister hardy foundation for ocean sciences plymouth university s marine institute and the diving diseases research centre these marine related organisations form the plymouth marine sciences partnership\n",
      "Actual:     what is the name of the aquarium present in plymouth ?\n",
      "Generated: what is the name of the national marine agency ?\n",
      "\n",
      "Input:      on december 3 2013 adidas officially confirmed a new shoe collaboration deal with west\n",
      "Actual:     how many seasons of clothing did kanye release ?\n",
      "Generated: when did the afl officially officially host a new zealand ?\n",
      "\n",
      "Input:      average annual rainfall is around 980 millimetres 39 in\n",
      "Actual:     about how many inches of rain fall on plymouth every year ?\n",
      "Generated: what is average annual rainfall in the year ?\n",
      "\n",
      "Input:      the doctrine of pratītyasamutpāda sanskrit pali paticcasamuppāda tibetan wylie rten cing brel bar byung ba chinese 緣起 is an important part of buddhist metaphysics\n",
      "Actual:     the doctrine of pratityasumatupada is a important part of what type of metaphysics ?\n",
      "Generated: what is the name of the doctrine of the valencian culture ?\n",
      "\n",
      "Input:      the chemical structure of penicillin was determined by dorothy crowfoot hodgkin in 1945\n",
      "Actual:     who discovered the chemical structure of penicillin ?\n",
      "Generated: what was determined by the atomic structure of the fortress of uranium ?\n",
      "\n",
      "Input:      its ad prices reached a peak in season seven at 737000\n",
      "Actual:     how much did advertisers spend for a 30 second ad spot during american idol in its seventh season ?\n",
      "Generated: how many people died in the year ?\n",
      "\n",
      "Input:      in the 1950s and 1960s dogs were kept outside more often than they tend to be today using the expression in the doghouse to describe exclusion from the group signifies the distance between the doghouse and the home and were still primarily functional acting as a guard children s playmate or walking companion\n",
      "Actual:     in the 1950s and 1960s most dogs where kept where ?\n",
      "Generated: what was the name of the first recorded laser in the 1950s ?\n",
      "\n",
      "Input:      in 2003 beyoncé starred opposite cuba gooding jr in the musical comedy the fighting temptations as lilly a single mother whom gooding s character falls in love with\n",
      "Actual:     what song did beyoncé release as the lead single from the fighting tempations ?\n",
      "Generated: what was the name of the book that was the second singer of the 1975 comedy ?\n",
      "\n"
     ]
    }
   ],
   "source": [
    "model.show_output_sentences(preds[:10], \n",
    "                            y_test[:10], \n",
    "                            input_test[:10], \n",
    "                            true_test[:10], \n",
    "                            ['?'])"
   ]
  },
  {
   "cell_type": "code",
   "execution_count": null,
   "metadata": {},
   "outputs": [],
   "source": []
  }
 ],
 "metadata": {
  "kernelspec": {
   "display_name": "Python 3",
   "language": "python",
   "name": "python3"
  },
  "language_info": {
   "codemirror_mode": {
    "name": "ipython",
    "version": 3
   },
   "file_extension": ".py",
   "mimetype": "text/x-python",
   "name": "python",
   "nbconvert_exporter": "python",
   "pygments_lexer": "ipython3",
   "version": "3.6.1"
  }
 },
 "nbformat": 4,
 "nbformat_minor": 2
}
